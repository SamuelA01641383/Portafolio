{
  "nbformat": 4,
  "nbformat_minor": 0,
  "metadata": {
    "colab": {
      "provenance": []
    },
    "kernelspec": {
      "name": "python3",
      "display_name": "Python 3"
    },
    "language_info": {
      "name": "python"
    }
  },
  "cells": [
    {
      "cell_type": "markdown",
      "source": [
        "# Ejercicio 2"
      ],
      "metadata": {
        "id": "vcis5AR4j1eT"
      }
    },
    {
      "cell_type": "markdown",
      "source": [
        "Determina si es necesario balancear los datos. En caso de que sea afirmativo, en todo este ejercicio tendrás que utilizar alguna estrategia para mitigar el problema de tener una muestra desbalanceada."
      ],
      "metadata": {
        "id": "YW5IMoM5j69s"
      }
    },
    {
      "cell_type": "code",
      "execution_count": null,
      "metadata": {
        "colab": {
          "base_uri": "https://localhost:8080/"
        },
        "id": "1IXO7a9zjyoh",
        "outputId": "a4fac967-503f-4bc0-cbb6-9d22dc1cc0bd"
      },
      "outputs": [
        {
          "output_type": "stream",
          "name": "stdout",
          "text": [
            "Clases: [1. 1. 1. 1. 1.]\n",
            "Variables (primeras 5 filas):\n",
            " [[ 1.          0.15991005  0.82903782 ...  0.87855426  1.63603899\n",
            "   1.60896884]\n",
            " [ 1.         -1.03964581  0.06158144 ...  0.67610431  0.75054922\n",
            "   1.04006595]\n",
            " [ 1.         -1.41164407 -1.09091459 ...  0.36203866  1.59177889\n",
            "   1.53300746]\n",
            " [ 1.         -2.6459736   0.12978829 ...  2.5321943   0.34460084\n",
            "  -0.867472  ]\n",
            " [ 1.         -1.69286003 -1.59763231 ...  1.38472232  0.45231775\n",
            "   0.7562994 ]]\n"
          ]
        }
      ],
      "source": [
        "import numpy as np\n",
        "\n",
        "# Cargar los datos, ignorando la segunda columna\n",
        "data = np.loadtxt('sample_data/M_5.txt')\n",
        "\n",
        "# Separar la primera columna (clases) y las variables (excluyendo la segunda columna)\n",
        "clases = data[:, 0]  # Primera columna (clases)\n",
        "variables = np.delete(data, 1, axis=1)  # Eliminar la segunda columna (ignorada)\n",
        "\n",
        "# Mostrar las primeras filas de las clases y las variables\n",
        "print(\"Clases:\", clases[:5])\n",
        "print(\"Variables (primeras 5 filas):\\n\", variables[:5, :])\n"
      ]
    },
    {
      "cell_type": "code",
      "source": [
        "import numpy as np\n",
        "import matplotlib.pyplot as plt\n",
        "from collections import Counter\n",
        "\n",
        "# Contar la cantidad de ejemplos en cada clase\n",
        "conteo_clases = Counter(clases)\n",
        "\n",
        "# Mostrar el conteo de cada clase\n",
        "print(\"Distribución de clases:\", conteo_clases)\n",
        "\n",
        "# Graficar la distribución de las clases\n",
        "plt.bar(conteo_clases.keys(), conteo_clases.values())\n",
        "plt.xlabel('Clase')\n",
        "plt.ylabel('Cantidad de muestras')\n",
        "plt.title('Distribución de las clases')\n",
        "plt.show()\n"
      ],
      "metadata": {
        "colab": {
          "base_uri": "https://localhost:8080/",
          "height": 489
        },
        "id": "YLIY5Pnsp1n4",
        "outputId": "6e3ab59e-05b1-43cf-c38d-60794410fbaa"
      },
      "execution_count": null,
      "outputs": [
        {
          "output_type": "stream",
          "name": "stdout",
          "text": [
            "Distribución de clases: Counter({1.0: 90, 2.0: 90, 3.0: 90, 4.0: 90, 5.0: 90, 6.0: 90, 7.0: 89})\n"
          ]
        },
        {
          "output_type": "display_data",
          "data": {
            "text/plain": [
              "<Figure size 640x480 with 1 Axes>"
            ],
            "image/png": "[encoded data removed]"
          },
          "metadata": {}
        }
      ]
    },
    {
      "cell_type": "markdown",
      "source": [
        "Observamos que ya esta balanceado y no es necesario utilizar alguna estrategia para mitigar el problema de tener una muestra desbalanceada"
      ],
      "metadata": {
        "id": "hz-8r3wLqEsu"
      }
    },
    {
      "cell_type": "markdown",
      "source": [
        "Evalúa al menos 8 modelos de clasificación distintos utilizando validación cruzada, y determina cuál de ellos es el más efectivo."
      ],
      "metadata": {
        "id": "eIX9u18iqMOE"
      }
    },
    {
      "cell_type": "code",
      "source": [
        "import numpy as np\n",
        "from sklearn.model_selection import cross_val_score\n",
        "from sklearn.linear_model import LogisticRegression\n",
        "from sklearn.svm import SVC\n",
        "from sklearn.tree import DecisionTreeClassifier\n",
        "from sklearn.ensemble import RandomForestClassifier, AdaBoostClassifier\n",
        "from sklearn.neighbors import KNeighborsClassifier\n",
        "from sklearn.naive_bayes import GaussianNB\n",
        "from sklearn.neural_network import MLPClassifier\n",
        "from sklearn.preprocessing import StandardScaler\n",
        "from sklearn.pipeline import Pipeline\n",
        "\n",
        "# Escalar las variables\n",
        "scaler = StandardScaler()\n",
        "\n",
        "# Definir los modelos\n",
        "modelos = {\n",
        "    'Logistic Regression': LogisticRegression(max_iter=1000),\n",
        "    'Support Vector Machine': SVC(),\n",
        "    'Decision Tree': DecisionTreeClassifier(),\n",
        "    'Random Forest': RandomForestClassifier(),\n",
        "    'K-Nearest Neighbors': KNeighborsClassifier(),\n",
        "    'Gaussian Naive Bayes': GaussianNB(),\n",
        "    'Multilayer Perceptron': MLPClassifier(max_iter=1000),\n",
        "    'AdaBoost': AdaBoostClassifier()\n",
        "}\n",
        "\n",
        "# Evaluar los modelos con validación cruzada\n",
        "resultados = {}\n",
        "for nombre, modelo in modelos.items():\n",
        "    # Crear un pipeline que escale las variables y aplique el modelo\n",
        "    pipeline = Pipeline([\n",
        "        ('scaler', scaler),\n",
        "        ('classifier', modelo)\n",
        "    ])\n",
        "\n",
        "    # Validación cruzada con 5 particiones\n",
        "    scores = cross_val_score(pipeline, variables, clases, cv=5, scoring='accuracy')\n",
        "\n",
        "    # Guardar los resultados\n",
        "    resultados[nombre] = np.mean(scores)\n",
        "    print(f\"{nombre}: Accuracy promedio = {np.mean(scores):.4f}\")\n",
        "\n",
        "# Determinar el modelo más efectivo\n",
        "mejor_modelo = max(resultados, key=resultados.get)\n",
        "print(f\"\\nEl modelo más efectivo es: {mejor_modelo} con una precisión de {resultados[mejor_modelo]:.4f}\")\n",
        "\n"
      ],
      "metadata": {
        "colab": {
          "base_uri": "https://localhost:8080/"
        },
        "id": "eXOSqvjkrazW",
        "outputId": "1ff0c45b-9b7b-442c-92af-ab337622931f"
      },
      "execution_count": null,
      "outputs": [
        {
          "output_type": "stream",
          "name": "stdout",
          "text": [
            "Logistic Regression: Accuracy promedio = 0.9602\n",
            "Support Vector Machine: Accuracy promedio = 0.9348\n",
            "Decision Tree: Accuracy promedio = 0.9904\n",
            "Random Forest: Accuracy promedio = 0.9252\n",
            "K-Nearest Neighbors: Accuracy promedio = 0.8393\n",
            "Gaussian Naive Bayes: Accuracy promedio = 1.0000\n",
            "Multilayer Perceptron: Accuracy promedio = 0.9125\n",
            "AdaBoost: Accuracy promedio = 0.4565\n",
            "\n",
            "El modelo más efectivo es: Gaussian Naive Bayes con una precisión de 1.0000\n"
          ]
        }
      ]
    },
    {
      "cell_type": "markdown",
      "source": [
        "Escoge al menos dos clasificadores que hayas evaluado en el paso anterior e identifica sus hiperparámetros. Lleva a cabo el proceso de validación cruzada anidada para evaluar los dos modelos con la selección óptima de hiperparámetros."
      ],
      "metadata": {
        "id": "064p4lq0vESq"
      }
    },
    {
      "cell_type": "markdown",
      "source": [
        "KNeighborsClassifier y el DecisionTreeClassifier"
      ],
      "metadata": {
        "id": "LB9hnIX0vG4b"
      }
    },
    {
      "cell_type": "code",
      "source": [
        "import numpy as np\n",
        "from sklearn.model_selection import GridSearchCV, StratifiedKFold\n",
        "from sklearn.neighbors import KNeighborsClassifier\n",
        "from sklearn.tree import DecisionTreeClassifier\n",
        "from sklearn.pipeline import Pipeline\n",
        "from sklearn.preprocessing import StandardScaler\n",
        "from sklearn.metrics import classification_report\n",
        "from sklearn.model_selection import cross_val_predict\n",
        "\n",
        "# Configuración de la validación cruzada anidada\n",
        "outer_cv = StratifiedKFold(n_splits=5, shuffle=True, random_state=42)\n",
        "\n",
        "# Definir los hiperparámetros para cada modelo\n",
        "param_grid_knn = {\n",
        "    'classifier__n_neighbors': np.arange(1, 21)  # Probar valores de k entre 1 y 20\n",
        "}\n",
        "\n",
        "param_grid_tree = {\n",
        "    'classifier__max_depth': np.arange(1, 21)  # Probar valores de max_depth entre 1 y 20\n",
        "}\n",
        "\n",
        "# Modelos a evaluar con validación cruzada anidada\n",
        "modelos = {\n",
        "    'K-Nearest Neighbors': {\n",
        "        'model': KNeighborsClassifier(),\n",
        "        'param_grid': param_grid_knn\n",
        "    },\n",
        "    'Decision Tree': {\n",
        "        'model': DecisionTreeClassifier(),\n",
        "        'param_grid': param_grid_tree\n",
        "    }\n",
        "}\n",
        "\n",
        "resultados = {}\n",
        "\n",
        "# Evaluar cada modelo con validación cruzada anidada\n",
        "for nombre, info in modelos.items():\n",
        "    print(f\"Evaluando {nombre}...\")\n",
        "\n",
        "    # Crear un pipeline que escale las variables y aplique el modelo\n",
        "    pipeline = Pipeline([\n",
        "        ('scaler', StandardScaler()),\n",
        "        ('classifier', info['model'])\n",
        "    ])\n",
        "\n",
        "    # Configurar GridSearchCV para validación cruzada anidada\n",
        "    grid_search = GridSearchCV(pipeline, info['param_grid'], cv=outer_cv, scoring='accuracy')\n",
        "\n",
        "    # Validación cruzada anidada\n",
        "    grid_search.fit(variables, clases)\n",
        "\n",
        "    # Guardar los resultados\n",
        "    resultados[nombre] = {\n",
        "        'mejor_modelo': grid_search.best_estimator_,\n",
        "        'mejores_parametros': grid_search.best_params_,\n",
        "        'accuracy_promedio': np.mean(grid_search.cv_results_['mean_test_score'])\n",
        "    }\n",
        "\n",
        "# Imprimir los resultados\n",
        "for nombre, info in resultados.items():\n",
        "    print(f\"\\n{nombre}:\")\n",
        "    print(f\"  Mejor Modelo: {info['mejor_modelo']}\")\n",
        "    print(f\"  Mejores Hiperparámetros: {info['mejores_parametros']}\")\n",
        "    print(f\"  Precisión Promedio: {info['accuracy_promedio']:.4f}\")\n",
        "\n",
        "# Evaluar el modelo final con la mejor configuración en todo el conjunto de datos\n",
        "for nombre, info in resultados.items():\n",
        "    print(f\"\\nEvaluando el modelo final para {nombre}...\")\n",
        "    final_model = info['mejor_modelo']\n",
        "    y_pred = cross_val_predict(final_model, variables, clases, cv=5)\n",
        "    print(classification_report(clases, y_pred))\n"
      ],
      "metadata": {
        "colab": {
          "base_uri": "https://localhost:8080/"
        },
        "id": "gu0do7FMvAKM",
        "outputId": "49e4bd0e-4b20-416d-99f6-0fc80b0fe03f"
      },
      "execution_count": null,
      "outputs": [
        {
          "output_type": "stream",
          "name": "stdout",
          "text": [
            "Evaluando K-Nearest Neighbors...\n",
            "Evaluando Decision Tree...\n",
            "\n",
            "K-Nearest Neighbors:\n",
            "  Mejor Modelo: Pipeline(steps=[('scaler', StandardScaler()),\n",
            "                ('classifier', KNeighborsClassifier(n_neighbors=12))])\n",
            "  Mejores Hiperparámetros: {'classifier__n_neighbors': 12}\n",
            "  Precisión Promedio: 0.8732\n",
            "\n",
            "Decision Tree:\n",
            "  Mejor Modelo: Pipeline(steps=[('scaler', StandardScaler()),\n",
            "                ('classifier', DecisionTreeClassifier(max_depth=6))])\n",
            "  Mejores Hiperparámetros: {'classifier__max_depth': 6}\n",
            "  Precisión Promedio: 0.8934\n",
            "\n",
            "Evaluando el modelo final para K-Nearest Neighbors...\n",
            "              precision    recall  f1-score   support\n",
            "\n",
            "         1.0       0.95      0.88      0.91        90\n",
            "         2.0       0.62      0.61      0.62        90\n",
            "         3.0       1.00      0.87      0.93        90\n",
            "         4.0       0.98      0.93      0.95        90\n",
            "         5.0       0.91      0.91      0.91        90\n",
            "         6.0       0.61      0.78      0.69        90\n",
            "         7.0       0.98      0.99      0.98        89\n",
            "\n",
            "    accuracy                           0.85       629\n",
            "   macro avg       0.87      0.85      0.86       629\n",
            "weighted avg       0.87      0.85      0.86       629\n",
            "\n",
            "\n",
            "Evaluando el modelo final para Decision Tree...\n",
            "              precision    recall  f1-score   support\n",
            "\n",
            "         1.0       1.00      0.98      0.99        90\n",
            "         2.0       1.00      1.00      1.00        90\n",
            "         3.0       1.00      0.98      0.99        90\n",
            "         4.0       0.98      1.00      0.99        90\n",
            "         5.0       1.00      1.00      1.00        90\n",
            "         6.0       1.00      0.99      0.99        90\n",
            "         7.0       0.97      1.00      0.98        89\n",
            "\n",
            "    accuracy                           0.99       629\n",
            "   macro avg       0.99      0.99      0.99       629\n",
            "weighted avg       0.99      0.99      0.99       629\n",
            "\n"
          ]
        }
      ]
    },
    {
      "cell_type": "markdown",
      "source": [
        "Prepara tus modelos para producción haciendo lo siguiente:\n",
        "\n",
        "A)Opten los hiperparámetros óptimos utilizando todo el conjunto de datos con validación cruzada.\n",
        "\n",
        "B)Con los hiperparámetros óptimos, ajusta el modelo con todos los datos."
      ],
      "metadata": {
        "id": "1UQdcNdEH5rv"
      }
    },
    {
      "cell_type": "code",
      "source": [
        "import numpy as np\n",
        "from sklearn.model_selection import GridSearchCV\n",
        "from sklearn.neighbors import KNeighborsClassifier\n",
        "from sklearn.tree import DecisionTreeClassifier\n",
        "from sklearn.pipeline import Pipeline\n",
        "from sklearn.preprocessing import StandardScaler\n",
        "\n",
        "# Configuración para GridSearchCV\n",
        "param_grid_knn = {\n",
        "    'classifier__n_neighbors': np.arange(1, 21)  # Probar valores de k entre 1 y 20\n",
        "}\n",
        "\n",
        "param_grid_tree = {\n",
        "    'classifier__max_depth': np.arange(1, 21)  # Probar valores de max_depth entre 1 y 20\n",
        "}\n",
        "\n",
        "# Modelos a evaluar con GridSearchCV\n",
        "modelos = {\n",
        "    'K-Nearest Neighbors': {\n",
        "        'model': KNeighborsClassifier(),\n",
        "        'param_grid': param_grid_knn\n",
        "    },\n",
        "    'Decision Tree': {\n",
        "        'model': DecisionTreeClassifier(),\n",
        "        'param_grid': param_grid_tree\n",
        "    }\n",
        "}\n",
        "\n",
        "# Buscar los mejores hiperparámetros utilizando todo el conjunto de datos\n",
        "resultados = {}\n",
        "for nombre, info in modelos.items():\n",
        "    print(f\"Optimizando {nombre}...\")\n",
        "\n",
        "    # Crear un pipeline que escale las variables y aplique el modelo\n",
        "    pipeline = Pipeline([\n",
        "        ('scaler', StandardScaler()),\n",
        "        ('classifier', info['model'])\n",
        "    ])\n",
        "\n",
        "    # Configurar GridSearchCV para búsqueda de hiperparámetros\n",
        "    grid_search = GridSearchCV(pipeline, info['param_grid'], cv=5, scoring='accuracy')\n",
        "\n",
        "    # Ajustar GridSearchCV con todo el conjunto de datos\n",
        "    grid_search.fit(variables, clases)\n",
        "\n",
        "    # Guardar los resultados\n",
        "    resultados[nombre] = {\n",
        "        'mejor_modelo': grid_search.best_estimator_,\n",
        "        'mejores_parametros': grid_search.best_params_\n",
        "    }\n",
        "\n",
        "# Imprimir los resultados\n",
        "for nombre, info in resultados.items():\n",
        "    print(f\"\\n{nombre}:\")\n",
        "    print(f\"  Mejor Modelo: {info['mejor_modelo']}\")\n",
        "    print(f\"  Mejores Hiperparámetros: {info['mejores_parametros']}\")\n",
        "\n",
        "# Ajustar el modelo final con todos los datos\n",
        "for nombre, info in resultados.items():\n",
        "    print(f\"\\nAjustando el modelo final para {nombre}...\")\n",
        "    final_model = info['mejor_modelo']\n",
        "    final_model.fit(variables, clases)\n",
        "    print(f\"{nombre} ajustado con todos los datos.\")\n"
      ],
      "metadata": {
        "colab": {
          "base_uri": "https://localhost:8080/"
        },
        "id": "GIuB-2mSH3MI",
        "outputId": "54f7b7c6-73f6-4052-e9af-fec651d0e1a0"
      },
      "execution_count": null,
      "outputs": [
        {
          "output_type": "stream",
          "name": "stdout",
          "text": [
            "Optimizando K-Nearest Neighbors...\n",
            "Optimizando Decision Tree...\n",
            "\n",
            "K-Nearest Neighbors:\n",
            "  Mejor Modelo: Pipeline(steps=[('scaler', StandardScaler()),\n",
            "                ('classifier', KNeighborsClassifier(n_neighbors=6))])\n",
            "  Mejores Hiperparámetros: {'classifier__n_neighbors': 6}\n",
            "\n",
            "Decision Tree:\n",
            "  Mejor Modelo: Pipeline(steps=[('scaler', StandardScaler()),\n",
            "                ('classifier', DecisionTreeClassifier(max_depth=13))])\n",
            "  Mejores Hiperparámetros: {'classifier__max_depth': 13}\n",
            "\n",
            "Ajustando el modelo final para K-Nearest Neighbors...\n",
            "K-Nearest Neighbors ajustado con todos los datos.\n",
            "\n",
            "Ajustando el modelo final para Decision Tree...\n",
            "Decision Tree ajustado con todos los datos.\n"
          ]
        }
      ]
    },
    {
      "cell_type": "markdown",
      "source": [
        "**¿Observas un problema en cuanto al balanceo de las clases? ¿Por qué?**\n",
        "\n",
        "Cuando los datos no son balanceados los modelos pueden estar sesgados hacia la clase mayoritaria.\n",
        "\n",
        "**¿Qué modelo o modelos fueron efectivos para clasificar tus datos? ¿Observas algo especial sobre los modelos? Argumenta tu respuesta.**\n",
        "\n",
        "K-Nearest Neighbors parece ser efectivo si las características están bien distribuidas y los datos tienen una estructura clara.\n",
        "\n",
        "Decision Tree tambien parece ser efectivo con este set de datos, en el caso de los datos ya balanceados el modelo Gaussian Naive Bayes parece ser muy efectivo.\n",
        "\n",
        "**¿Observas alguna mejora importante al optimizar hiperparámetros? ¿Es el resultado que esperabas? Argumenta tu respuesta.**\n",
        "\n",
        "Al optimizar hiperparámetros, podemos mejorar la precisión del modelo al ajustar parámetros clave. Esto lo logramos haciendo que el modelo se adapte mejor a nuestros datos.\n",
        "\n",
        "**¿Qué inconvenientes hay al encontrar hiperparámetros? ¿Por qué?**\n",
        "\n",
        " La búsqueda exhaustiva de hiperparámetros puede ser muy costosa en términos de tiempo y recursos computacionales"
      ],
      "metadata": {
        "id": "Ne5h-LYyJG9h"
      }
    }
  ]
}