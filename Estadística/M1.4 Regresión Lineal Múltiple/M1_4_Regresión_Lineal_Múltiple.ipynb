{
  "nbformat": 4,
  "nbformat_minor": 0,
  "metadata": {
    "colab": {
      "provenance": []
    },
    "kernelspec": {
      "name": "python3",
      "display_name": "Python 3"
    },
    "language_info": {
      "name": "python"
    }
  },
  "cells": [
    {
      "cell_type": "markdown",
      "source": [
        "# 1. Cargar los datos desde un archivo CSV"
      ],
      "metadata": {
        "id": "oSN9JZRNArSG"
      }
    },
    {
      "cell_type": "code",
      "execution_count": 35,
      "metadata": {
        "id": "0KrUn7UFARLm"
      },
      "outputs": [],
      "source": [
        "import pandas as pd\n",
        "from sklearn.model_selection import train_test_split\n",
        "from sklearn.preprocessing import MinMaxScaler\n",
        "import statsmodels.api as sm\n",
        "import numpy as np\n",
        "import matplotlib.pyplot as plt\n",
        "from sklearn.model_selection import KFold\n",
        "from sklearn.metrics import mean_squared_error, mean_absolute_error, r2_score\n",
        "from sklearn.preprocessing import MinMaxScaler\n",
        "\n",
        "\n",
        "# Cargar datos desde un archivo Excel\n",
        "df = pd.read_excel('sample_data/Regresión Lineal Múltiple.xlsx')\n",
        "\n",
        "# Variables predictoras y objetivo\n",
        "X = df.drop(columns=['Sobrevivencia (días)'])\n",
        "y = df['Sobrevivencia (días)']"
      ]
    },
    {
      "cell_type": "markdown",
      "source": [
        "#2. Escalar las variables predictoras usando MinMaxScaler"
      ],
      "metadata": {
        "id": "2r3nMqEHAmbo"
      }
    },
    {
      "cell_type": "code",
      "source": [
        "scaler = MinMaxScaler()\n",
        "X_scaled = scaler.fit_transform(X)\n",
        "\n",
        "# Convertir los datos escalados en un DataFrame\n",
        "X_scaled_df = pd.DataFrame(X_scaled, columns=X.columns)\n",
        "\n",
        "# Mostrar las primeras filas de los datos escalados\n",
        "print(X_scaled_df.head())"
      ],
      "metadata": {
        "colab": {
          "base_uri": "https://localhost:8080/"
        },
        "id": "7rk9T5oJAkA4",
        "outputId": "9cd361d4-b6ad-4fe5-eb45-164043e12691"
      },
      "execution_count": 36,
      "outputs": [
        {
          "output_type": "stream",
          "name": "stdout",
          "text": [
            "   Factor Coagulación  Índice pronóstico  Función de enzima  \\\n",
            "0            0.476744           0.593407           0.604167   \n",
            "1            0.290698           0.560440           0.447917   \n",
            "2            0.558140           0.538462           0.625000   \n",
            "3            0.453488           0.714286           0.187500   \n",
            "4            0.604651           0.626374           0.958333   \n",
            "\n",
            "   Función de hígado   Edad  Género  Alcohol\\n(moderado)  Alcohol\\n(severo)  \n",
            "0           0.326855  0.500     0.0                  1.0                0.0  \n",
            "1           0.169611  0.225     0.0                  0.0                0.0  \n",
            "2           0.250883  0.625     0.0                  0.0                0.0  \n",
            "3           0.224382  0.450     0.0                  0.0                0.0  \n",
            "4           0.628975  0.375     0.0                  0.0                1.0  \n"
          ]
        }
      ]
    },
    {
      "cell_type": "markdown",
      "source": [
        "# 3. Realizar la regresión con las variables significativas"
      ],
      "metadata": {
        "id": "pzMkNYqqA3RI"
      }
    },
    {
      "cell_type": "code",
      "source": [
        "# Agregar la columna de unos para el intercepto\n",
        "X_scaled = np.column_stack((np.ones(X_scaled.shape[0]), X_scaled))\n",
        "\n",
        "# Definir funciones para ajustar el modelo y hacer predicciones\n",
        "def fit_model(X, y):\n",
        "    return np.linalg.inv(X.transpose() @ X) @ X.transpose() @ y\n",
        "\n",
        "def predict(X, beta):\n",
        "    return X @ beta\n",
        "\n",
        "# Ajustar el modelo usando los datos completos\n",
        "beta = fit_model(X_scaled, y)\n",
        "print(\"Model coefficients: \", beta)\n",
        "\n",
        "# Hacer predicciones y evaluar residuos\n",
        "y_pred = predict(X_scaled, beta)\n",
        "r = y - y_pred\n",
        "\n",
        "# Graficar residuos\n",
        "plt.scatter(y, r)\n",
        "plt.axhline(0, color='red', linestyle='--')\n",
        "plt.xlabel('y')\n",
        "plt.ylabel('Error')\n",
        "plt.title('Residuals')\n",
        "plt.show()\n",
        "\n",
        "# Calcular MSE, MAE y R^2 con el conjunto de entrenamiento\n",
        "print('MSE: ', mean_squared_error(y, y_pred))\n",
        "print(\"MAE: \", mean_absolute_error(y, y_pred))\n",
        "print(\"R^2: \", r2_score(y, y_pred))\n",
        "\n",
        "# Evaluar el modelo con validación cruzada\n",
        "n_folds = 5\n",
        "kf = KFold(n_splits=n_folds, shuffle=True)\n",
        "\n",
        "mse_cv = []\n",
        "mae_cv = []\n",
        "r2_cv = []\n",
        "\n",
        "for train_index, test_index in kf.split(X_scaled):\n",
        "    # Fase de entrenamiento\n",
        "    X_train, X_test = X_scaled[train_index, :], X_scaled[test_index, :]\n",
        "    y_train, y_test = y[train_index], y[test_index]\n",
        "\n",
        "    beta_cv = fit_model(X_train, y_train)\n",
        "\n",
        "    # Fase de prueba\n",
        "    y_pred_cv = predict(X_test, beta_cv)\n",
        "\n",
        "    # Calcular MSE, MAE y R^2\n",
        "    mse_i = mean_squared_error(y_test, y_pred_cv)\n",
        "    mse_cv.append(mse_i)\n",
        "\n",
        "    mae_i = mean_absolute_error(y_test, y_pred_cv)\n",
        "    mae_cv.append(mae_i)\n",
        "\n",
        "    r2_i = r2_score(y_test, y_pred_cv)\n",
        "    r2_cv.append(r2_i)\n",
        "\n",
        "    print('Fold MSE = ', mse_i)\n",
        "    print('Fold MAE = ', mae_i)\n",
        "    print('Fold R^2 = ', r2_i)\n",
        "\n",
        "print('Average MSE:', np.mean(mse_cv))\n",
        "print('Average MAE:', np.mean(mae_cv))\n",
        "print('Average R^2:', np.mean(r2_cv))\n"
      ],
      "metadata": {
        "colab": {
          "base_uri": "https://localhost:8080/",
          "height": 871
        },
        "id": "ysQ5E8qgA5Ag",
        "outputId": "67003f2b-dcda-437f-eb40-1f8875590384"
      },
      "execution_count": 37,
      "outputs": [
        {
          "output_type": "stream",
          "name": "stdout",
          "text": [
            "Model coefficients:  [-575.86374747  453.26085291  738.23244281  854.14304366  429.43164879\n",
            "   25.63892773   13.09258075  -41.26764482  195.70703222]\n"
          ]
        },
        {
          "output_type": "display_data",
          "data": {
            "text/plain": [
              "<Figure size 640x480 with 1 Axes>"
            ],
            "image/png": "[encoded data removed]"
          },
          "metadata": {}
        },
        {
          "output_type": "stream",
          "name": "stdout",
          "text": [
            "MSE:  26938.257179330714\n",
            "MAE:  118.6071846460898\n",
            "R^2:  0.775278095890658\n",
            "Fold MSE =  68744.474620507\n",
            "Fold MAE =  179.01633395719074\n",
            "Fold R^2 =  0.5848207329411415\n",
            "Fold MSE =  20637.99503886233\n",
            "Fold MAE =  113.69004418757117\n",
            "Fold R^2 =  0.6346586845530275\n",
            "Fold MSE =  24736.697915983237\n",
            "Fold MAE =  127.11137541880674\n",
            "Fold R^2 =  0.8768907590702751\n",
            "Fold MSE =  24912.6406715998\n",
            "Fold MAE =  136.5562895149084\n",
            "Fold R^2 =  0.785195352611537\n",
            "Fold MSE =  19927.03524298255\n",
            "Fold MAE =  106.99290601256723\n",
            "Fold R^2 =  0.24292836688259\n",
            "Average MSE: 31791.768697986983\n",
            "Average MAE: 132.67338981820885\n",
            "Average R^2: 0.6248987792117143\n"
          ]
        }
      ]
    },
    {
      "cell_type": "markdown",
      "source": [
        "# 4. Probar si se deben agregar interacciones o términos polinomiales"
      ],
      "metadata": {
        "id": "eejFpAQzBC1L"
      }
    },
    {
      "cell_type": "markdown",
      "source": [
        "# 5. Interpretar la tabla ANOVA, R², R² ajustada, p-values y FIV"
      ],
      "metadata": {
        "id": "hzz2jEPTBG3f"
      }
    },
    {
      "cell_type": "code",
      "source": [
        "import numpy as np\n",
        "import pandas as pd\n",
        "import statsmodels.api as sm\n",
        "from sklearn.preprocessing import MinMaxScaler\n",
        "from statsmodels.stats.outliers_influence import variance_inflation_factor\n",
        "\n",
        "# Transformar las variables predictoras con MinMaxScaler\n",
        "scaler = MinMaxScaler()\n",
        "X_scaled = scaler.fit_transform(X)\n",
        "\n",
        "# Convertir X_scaled a un DataFrame y agregar una constante para el intercepto\n",
        "X_scaled_df = pd.DataFrame(X_scaled, columns=X.columns)\n",
        "X_scaled_df = sm.add_constant(X_scaled_df)\n",
        "\n",
        "# Ajustar el modelo usando statsmodels\n",
        "model = sm.OLS(y, X_scaled_df).fit()\n",
        "\n",
        "# Mostrar resumen del modelo\n",
        "print(model.summary())\n",
        "\n",
        "# Evaluar factores de inflación de la varianza (VIF)\n",
        "def calculate_vif(X):\n",
        "    vif_data = pd.DataFrame()\n",
        "    vif_data[\"Variable\"] = X.columns\n",
        "    vif_data[\"VIF\"] = [variance_inflation_factor(X.values, i) for i in range(X.shape[1])]\n",
        "    return vif_data\n",
        "\n",
        "vif_data = calculate_vif(X_scaled_df)\n",
        "print(vif_data)\n",
        "\n",
        "# Interpretación:\n",
        "# R^2, R^2 ajustado, p-values y VIF están en el resumen del modelo y en el DataFrame de VIF\n"
      ],
      "metadata": {
        "colab": {
          "base_uri": "https://localhost:8080/"
        },
        "id": "P3ZgoTMOK_u2",
        "outputId": "f1080865-ec3d-45ca-b822-2746b5dc6787"
      },
      "execution_count": 40,
      "outputs": [
        {
          "output_type": "stream",
          "name": "stdout",
          "text": [
            "                             OLS Regression Results                             \n",
            "================================================================================\n",
            "Dep. Variable:     Sobrevivencia (días)   R-squared:                       0.775\n",
            "Model:                              OLS   Adj. R-squared:                  0.757\n",
            "Method:                   Least Squares   F-statistic:                     42.69\n",
            "Date:                  Tue, 03 Sep 2024   Prob (F-statistic):           8.70e-29\n",
            "Time:                          23:32:04   Log-Likelihood:                -704.12\n",
            "No. Observations:                   108   AIC:                             1426.\n",
            "Df Residuals:                        99   BIC:                             1450.\n",
            "Df Model:                             8                                         \n",
            "Covariance Type:              nonrobust                                         \n",
            "======================================================================================\n",
            "                         coef    std err          t      P>|t|      [0.025      0.975]\n",
            "--------------------------------------------------------------------------------------\n",
            "const               -575.8637     97.477     -5.908      0.000    -769.280    -382.448\n",
            "Factor Coagulación   453.2609    125.622      3.608      0.000     204.000     702.522\n",
            "Índice pronóstico    738.2324    103.242      7.151      0.000     533.379     943.086\n",
            "Función de enzima    854.1430     97.046      8.801      0.000     661.582    1046.704\n",
            "Función de hígado    429.4316    144.560      2.971      0.004     142.593     716.271\n",
            "Edad                  25.6389     57.866      0.443      0.659     -89.179     140.457\n",
            "Género                13.0926     34.118      0.384      0.702     -54.606      80.791\n",
            "Alcohol\n",
            "(moderado)   -41.2676     38.529     -1.071      0.287    -117.718      35.183\n",
            "Alcohol\n",
            "(severo)     195.7070     50.095      3.907      0.000      96.308     295.106\n",
            "==============================================================================\n",
            "Omnibus:                       45.879   Durbin-Watson:                   1.770\n",
            "Prob(Omnibus):                  0.000   Jarque-Bera (JB):              214.951\n",
            "Skew:                           1.304   Prob(JB):                     2.11e-47\n",
            "Kurtosis:                       9.401   Cond. No.                         20.1\n",
            "==============================================================================\n",
            "\n",
            "Notes:\n",
            "[1] Standard Errors assume that the covariance matrix of the errors is correctly specified.\n",
            "              Variable        VIF\n",
            "0                const  34.919843\n",
            "1   Factor Coagulación   1.577947\n",
            "2    Índice pronóstico   1.323686\n",
            "3    Función de enzima   1.629249\n",
            "4    Función de hígado   2.401849\n",
            "5                 Edad   1.020800\n",
            "6               Género   1.068036\n",
            "7  Alcohol\\n(moderado)   1.363438\n",
            "8    Alcohol\\n(severo)   1.444596\n"
          ]
        }
      ]
    },
    {
      "cell_type": "markdown",
      "source": [
        "# 6. Verificar el cumplimiento de los supuestos"
      ],
      "metadata": {
        "id": "XqawKoLUCFrz"
      }
    },
    {
      "cell_type": "code",
      "source": [
        "import scipy.stats as stats\n",
        "import matplotlib.pyplot as plt\n",
        "\n",
        "# Histograma de los residuos\n",
        "residuals = model.resid\n",
        "plt.hist(residuals, bins=30)\n",
        "plt.show()\n",
        "\n",
        "# Prueba de normalidad\n",
        "_, p_value = stats.shapiro(residuals)\n",
        "print('p-value Shapiro-Wilk:', p_value)\n"
      ],
      "metadata": {
        "colab": {
          "base_uri": "https://localhost:8080/",
          "height": 447
        },
        "id": "ey7hnobACKlr",
        "outputId": "940b716d-fc38-409d-d34c-36f5773cea72"
      },
      "execution_count": 24,
      "outputs": [
        {
          "output_type": "display_data",
          "data": {
            "text/plain": [
              "<Figure size 640x480 with 1 Axes>"
            ],
            "image/png": "[encoded data removed]"
          },
          "metadata": {}
        },
        {
          "output_type": "stream",
          "name": "stdout",
          "text": [
            "p-value Shapiro-Wilk: 4.3547291981843544e-07\n"
          ]
        }
      ]
    },
    {
      "cell_type": "markdown",
      "source": [
        "**Homocedasticidad**"
      ],
      "metadata": {
        "id": "iiVngR5dCSlW"
      }
    },
    {
      "cell_type": "code",
      "source": [
        "plt.scatter(model.fittedvalues, model.resid)\n",
        "plt.xlabel('Valores ajustados')\n",
        "plt.ylabel('Residuos')\n",
        "plt.show()"
      ],
      "metadata": {
        "colab": {
          "base_uri": "https://localhost:8080/",
          "height": 449
        },
        "id": "5ytDjWozCPSZ",
        "outputId": "3e485028-c39c-4d8a-e871-4ff908ed4de4"
      },
      "execution_count": 11,
      "outputs": [
        {
          "output_type": "display_data",
          "data": {
            "text/plain": [
              "<Figure size 640x480 with 1 Axes>"
            ],
            "image/png": "[encoded data removed]"
          },
          "metadata": {}
        }
      ]
    },
    {
      "cell_type": "markdown",
      "source": [
        "**Autocorrelación**"
      ],
      "metadata": {
        "id": "o63AmLl7CVLP"
      }
    },
    {
      "cell_type": "code",
      "source": [
        "from statsmodels.stats.stattools import durbin_watson\n",
        "dw = durbin_watson(model.resid)\n",
        "print('Durbin-Watson:', dw)"
      ],
      "metadata": {
        "colab": {
          "base_uri": "https://localhost:8080/"
        },
        "id": "1scZVXjWCRD5",
        "outputId": "0e8c5d58-0acc-4c16-c8c4-9bab1d952ca1"
      },
      "execution_count": 12,
      "outputs": [
        {
          "output_type": "stream",
          "name": "stdout",
          "text": [
            "Durbin-Watson: 1.7702758663012679\n"
          ]
        }
      ]
    },
    {
      "cell_type": "markdown",
      "source": [
        "**Realizar las transformaciones adecuadas a las variables predictoras.**\n",
        "\n",
        "**Realizar el modelo de regresión con las variables significativas.**\n",
        "\n",
        "**Probar si se deben agregar interacciones o términos polinomiales.**\n",
        "\n",
        "**Interpretar la tabla ANOVA, R2, R2 ajustada, p-values y FIV.**\n",
        "\n",
        "**Verificar el cumplimiento de los supuestos.**"
      ],
      "metadata": {
        "id": "cxuUsyakQotO"
      }
    }
  ]
}